{
 "cells": [
  {
   "cell_type": "markdown",
   "id": "b9792741-2246-4067-87ff-a3b2bf9e066a",
   "metadata": {},
   "source": [
    "# Perceptron Approach"
   ]
  },
  {
   "cell_type": "code",
   "execution_count": 1,
   "id": "a32f59e1-1964-4f92-9916-9280c8ecdb98",
   "metadata": {},
   "outputs": [],
   "source": [
    "import random\n",
    "import numpy as np"
   ]
  },
  {
   "cell_type": "code",
   "execution_count": 2,
   "id": "a821a83c-a244-4391-b330-3d7ed25875f4",
   "metadata": {},
   "outputs": [],
   "source": [
    "piv = np.array([[.4, .4], [.47, .8], [1.2, .49], [1.1, .8]])\n",
    "labels = np.array([0, 0, 0, 1])"
   ]
  },
  {
   "cell_type": "code",
   "execution_count": 3,
   "id": "1853ec01-0de7-4562-a1ad-ceb08ebe039c",
   "metadata": {},
   "outputs": [],
   "source": [
    "def weighted_sum(vec, weights):\n",
    "    w_vec = vec*weights;\n",
    "    return w_vec.sum()"
   ]
  },
  {
   "cell_type": "code",
   "execution_count": 4,
   "id": "5a868f45-f0be-4745-9c60-4873d5e2ef4b",
   "metadata": {},
   "outputs": [],
   "source": [
    "def activation(val, threshold):\n",
    "    if val >= threshold:\n",
    "        return 1\n",
    "    else:\n",
    "        return 0"
   ]
  },
  {
   "cell_type": "code",
   "execution_count": 5,
   "id": "9c252d4e-e52e-4a13-8545-ef0d512d10d1",
   "metadata": {},
   "outputs": [],
   "source": [
    "def fit(cycles):\n",
    "    step = 0.1\n",
    "    for c in range(cycles):\n",
    "        num_errors = 0\n",
    "\n",
    "        for i in range(len(piv)):\n",
    "            w_sum = weighted_sum(piv[i], weights[1:])\n",
    "            w_sum += weights[0]\n",
    "            act = activation(w_sum, threshold)\n",
    "            error = labels[i] - act\n",
    "\n",
    "            if error != 0:\n",
    "                num_errors += 1\n",
    "                weights[0] += step * error * piv[i][0]\n",
    "                weights[1] += step * error * piv[i][1]\n",
    "        \n",
    "        print(c, num_errors)\n",
    "\n",
    "        if num_errors == 0:\n",
    "            print(c, weights)\n",
    "            accuracy = int(100 - ((num_errors/len(piv)) * 100))\n",
    "            print(f\"Train data accuracy = {accuracy}% accuracy\")\n",
    "            break\n",
    "    else:\n",
    "        accuracy = int(100 - ((num_errors/len(piv)) * 100))\n",
    "        print(f\"Train data accuracy = {accuracy}% accuracy\")\n",
    "        print(\"No Answer Found\")"
   ]
  },
  {
   "cell_type": "code",
   "execution_count": 6,
   "id": "49443634-c4f0-491a-a376-85c6174b2413",
   "metadata": {},
   "outputs": [],
   "source": [
    "def test_weights(w, act):\n",
    "    err = 0\n",
    "    for i in range(len(piv)):\n",
    "        vs =  weighted_sum(piv[i], w[1:]) + weights[0]\n",
    "        if act(vs, threshold) != labels[i]:\n",
    "            err+=1\n",
    "    accuracy = int(100 - ((err/len(piv)) * 100))\n",
    "    print(f\"Test data accuracy = {accuracy}% accuracy\")"
   ]
  },
  {
   "cell_type": "code",
   "execution_count": 7,
   "id": "8338c026-12d5-4b06-9725-b64707f73792",
   "metadata": {},
   "outputs": [],
   "source": [
    "precise_labels = []\n",
    "precise_rounds = []\n",
    "for i in range(100):\n",
    "    donut = [random.uniform(1.0, 2.0), random.uniform(1.0, 2.0)]\n",
    "    small_bagel = [random.uniform(0.0, 0.5), random.uniform(0.0, 0.5)]\n",
    "    reg_bagel = [random.uniform(0.5, 1.0), random.uniform(0.5, 1.0)]\n",
    "    precise_rounds += [donut, small_bagel, reg_bagel]\n",
    "    precise_labels += [1, 0, 0]"
   ]
  },
  {
   "cell_type": "code",
   "execution_count": 8,
   "id": "94c85a87-6f11-485e-bd8b-93a3ad2902a9",
   "metadata": {},
   "outputs": [],
   "source": [
    "ratio = int(len(precise_rounds)*.7)\n",
    "train_piv = np.array(precise_rounds[:ratio])\n",
    "train_labels = np.array(precise_labels[:ratio])\n",
    "\n",
    "test_piv = np.array(precise_rounds[ratio:])\n",
    "test_labels = np.array(precise_labels[ratio:])"
   ]
  },
  {
   "cell_type": "code",
   "execution_count": 9,
   "id": "ab560fce-0a6b-4157-be35-13aa8fcbec27",
   "metadata": {},
   "outputs": [
    {
     "name": "stdout",
     "output_type": "stream",
     "text": [
      "0 13\n",
      "1 8\n",
      "2 8\n",
      "3 8\n",
      "4 8\n",
      "5 8\n",
      "6 8\n",
      "7 7\n",
      "8 7\n",
      "9 8\n",
      "10 7\n",
      "11 5\n",
      "12 6\n",
      "13 5\n",
      "14 7\n",
      "15 8\n",
      "16 6\n",
      "17 6\n",
      "18 5\n",
      "19 6\n",
      "Train data accuracy = 97% accuracy\n",
      "No Answer Found\n",
      "Test data accuracy = 97% accuracy\n"
     ]
    }
   ],
   "source": [
    "piv = train_piv\n",
    "labels = train_labels\n",
    "bias = random.uniform(-1.0, 1.0)\n",
    "\n",
    "weights = np.array([bias, random.uniform(-1.0, 1.0), random.uniform(-1.0, 1.0)])\n",
    "threshold = 2.0\n",
    "lifecycles = 20\n",
    "fit(lifecycles)\n",
    "\n",
    "piv = test_piv\n",
    "labels = test_labels\n",
    "test_weights(weights, activation)"
   ]
  },
  {
   "cell_type": "code",
   "execution_count": null,
   "id": "a4ea46b5-04d7-4ce3-8f66-99a6122bc30f",
   "metadata": {},
   "outputs": [],
   "source": []
  }
 ],
 "metadata": {
  "kernelspec": {
   "display_name": "Python 3 (ipykernel)",
   "language": "python",
   "name": "python3"
  },
  "language_info": {
   "codemirror_mode": {
    "name": "ipython",
    "version": 3
   },
   "file_extension": ".py",
   "mimetype": "text/x-python",
   "name": "python",
   "nbconvert_exporter": "python",
   "pygments_lexer": "ipython3",
   "version": "3.11.7"
  }
 },
 "nbformat": 4,
 "nbformat_minor": 5
}
